{
 "cells": [
  {
   "cell_type": "code",
   "execution_count": 3,
   "metadata": {},
   "outputs": [
    {
     "name": "stdout",
     "output_type": "stream",
     "text": [
      "\n",
      "===================================================\n",
      "Feature selection using SelectFromModel and LassoCV\n",
      "===================================================\n",
      "\n",
      "Use SelectFromModel meta-transformer along with Lasso to select the best\n",
      "couple of features from the diabetes dataset.\n",
      "\n",
      "Since the L1 norm promotes sparsity of features we might be interested in\n",
      "selecting only a subset of the most interesting features from the dataset. This\n",
      "example shows how to select two the most interesting features from the diabetes\n",
      "dataset.\n",
      "\n",
      "Diabetes dataset consists of 10 variables (features) collected from 442\n",
      "diabetes patients. This example shows how to use SelectFromModel and LassoCv to\n",
      "find the best two features predicting disease progression after one year from\n",
      "the baseline.\n",
      "\n",
      "Authors: `Manoj Kumar <mks542@nyu.edu>`_,\n",
      "`Maria Telenczuk <https://github.com/maikia>`_\n",
      "\n",
      "License: BSD 3 clause\n",
      "\n"
     ]
    }
   ],
   "source": [
    "\"\"\"\n",
    "===================================================\n",
    "Feature selection using SelectFromModel and LassoCV\n",
    "===================================================\n",
    "\n",
    "Use SelectFromModel meta-transformer along with Lasso to select the best\n",
    "couple of features from the diabetes dataset.\n",
    "\n",
    "Since the L1 norm promotes sparsity of features we might be interested in\n",
    "selecting only a subset of the most interesting features from the dataset. This\n",
    "example shows how to select two the most interesting features from the diabetes\n",
    "dataset.\n",
    "\n",
    "Diabetes dataset consists of 10 variables (features) collected from 442\n",
    "diabetes patients. This example shows how to use SelectFromModel and LassoCv to\n",
    "find the best two features predicting disease progression after one year from\n",
    "the baseline.\n",
    "\n",
    "Authors: `Manoj Kumar <mks542@nyu.edu>`_,\n",
    "`Maria Telenczuk <https://github.com/maikia>`_\n",
    "\n",
    "License: BSD 3 clause\n",
    "\"\"\"\n",
    "\n",
    "print(__doc__)\n",
    "\n",
    "import matplotlib.pyplot as plt\n",
    "import numpy as np\n",
    "\n",
    "from sklearn.datasets import load_diabetes\n",
    "from sklearn.feature_selection import SelectFromModel\n",
    "from sklearn.linear_model import LassoCV"
   ]
  },
  {
   "cell_type": "code",
   "execution_count": 4,
   "metadata": {},
   "outputs": [
    {
     "name": "stdout",
     "output_type": "stream",
     "text": [
      "['age', 'sex', 'bmi', 'bp', 's1', 's2', 's3', 's4', 's5', 's6']\n"
     ]
    }
   ],
   "source": [
    "# %%\n",
    "# Load the data\n",
    "# ---------------------------------------------------------\n",
    "#\n",
    "# First, let's load the diabetes dataset which is available from within\n",
    "# sklearn. Then, we will look what features are collected for the diabates\n",
    "# patients:\n",
    "\n",
    "diabetes = load_diabetes()\n",
    "\n",
    "X = diabetes.data\n",
    "y = diabetes.target\n",
    "\n",
    "feature_names = diabetes.feature_names\n",
    "print(feature_names)"
   ]
  },
  {
   "cell_type": "code",
   "execution_count": 5,
   "metadata": {},
   "outputs": [
    {
     "name": "stdout",
     "output_type": "stream",
     "text": [
      "[  6.49684455 235.99640534 521.73854261 321.06689245 569.4426838\n",
      " 302.45627915   0.         143.6995665  669.92633112  66.83430445]\n"
     ]
    }
   ],
   "source": [
    "# %%\n",
    "# Find importance of the features\n",
    "# ---------------------------------------------------------\n",
    "#\n",
    "# To decide on the importance of the features we are going to use LassoCV\n",
    "# estimator. The features with the highest absolute `coef_` value are\n",
    "# considered the most important\n",
    "\n",
    "clf = LassoCV().fit(X, y)\n",
    "importance = np.abs(clf.coef_)\n",
    "print(importance)"
   ]
  },
  {
   "cell_type": "code",
   "execution_count": 6,
   "metadata": {},
   "outputs": [
    {
     "name": "stdout",
     "output_type": "stream",
     "text": [
      "Selected features: ['s5' 's1']\n"
     ]
    }
   ],
   "source": [
    "# %%\n",
    "# Select from the model features with the higest score\n",
    "# ---------------------------------------------------------\n",
    "#\n",
    "# Now we want to select the two features which are the most important.\n",
    "# SelectFromModel() allows for setting the threshold. Only the features with\n",
    "# the `coef_` higher than the threshold will remain. Here, we want to set the\n",
    "# threshold slightly above the third highest `coef_` calculated by LassoCV()\n",
    "# from our data.\n",
    "\n",
    "idx_third = importance.argsort()[-3]\n",
    "threshold = importance[idx_third] + 0.01\n",
    "\n",
    "idx_features = (-importance).argsort()[:2]\n",
    "name_features = np.array(feature_names)[idx_features]\n",
    "print('Selected features: {}'.format(name_features))\n",
    "\n",
    "sfm = SelectFromModel(clf, threshold=threshold)\n",
    "sfm.fit(X, y)\n",
    "X_transform = sfm.transform(X)\n",
    "\n",
    "n_features = sfm.transform(X).shape[1]"
   ]
  },
  {
   "cell_type": "code",
   "execution_count": 7,
   "metadata": {},
   "outputs": [
    {
     "data": {
      "image/png": "[encoded data removed]",
      "text/plain": [
       "<Figure size 432x288 with 1 Axes>"
      ]
     },
     "metadata": {
      "needs_background": "light"
     },
     "output_type": "display_data"
    }
   ],
   "source": [
    "\n",
    "# %%\n",
    "# Plot the two most important features\n",
    "# ---------------------------------------------------------\n",
    "#\n",
    "# Finally we will plot the selected two features from the data.\n",
    "\n",
    "plt.title(\n",
    "    \"Features from diabets using SelectFromModel with \"\n",
    "    \"threshold %0.3f.\" % sfm.threshold)\n",
    "feature1 = X_transform[:, 0]\n",
    "feature2 = X_transform[:, 1]\n",
    "plt.plot(feature1, feature2, 'r.')\n",
    "plt.xlabel(\"First feature: {}\".format(name_features[0]))\n",
    "plt.ylabel(\"Second feature: {}\".format(name_features[1]))\n",
    "plt.ylim([np.min(feature2), np.max(feature2)])\n",
    "plt.show()"
   ]
  },
  {
   "cell_type": "code",
   "execution_count": null,
   "metadata": {},
   "outputs": [],
   "source": []
  }
 ],
 "metadata": {
  "kernelspec": {
   "display_name": "Python 3",
   "language": "python",
   "name": "python3"
  },
  "language_info": {
   "codemirror_mode": {
    "name": "ipython",
    "version": 3
   },
   "file_extension": ".py",
   "mimetype": "text/x-python",
   "name": "python",
   "nbconvert_exporter": "python",
   "pygments_lexer": "ipython3",
   "version": "3.6.8"
  }
 },
 "nbformat": 4,
 "nbformat_minor": 2
}
