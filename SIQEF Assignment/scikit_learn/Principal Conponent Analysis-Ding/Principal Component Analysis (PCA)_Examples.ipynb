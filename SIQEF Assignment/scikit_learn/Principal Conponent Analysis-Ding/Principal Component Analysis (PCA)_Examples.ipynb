{
 "cells": [
  {
   "cell_type": "markdown",
   "metadata": {},
   "source": [
    "# Principal Component Analysis：Examples #"
   ]
  },
  {
   "cell_type": "markdown",
   "metadata": {},
   "source": [
    "## Example 1: Breast Cancer ##"
   ]
  },
  {
   "cell_type": "markdown",
   "metadata": {},
   "source": [
    "The first example came from https://datascienceplus.com/principal-component-analysis-pca-with-python/, part of the *Advanced Modeling in Python* course of the *datascience+*.  \n",
    "In this example, the author applied the Principal Component Analysis (PCA) to compress the dimension of real data of brest cancer cases in Wisconsin, US.  \n",
    "The result of the PCA analysis shows that the two dinmension scatter plot is able to distinguish whether the tumors are benign or malignant. "
   ]
  },
  {
   "cell_type": "markdown",
   "metadata": {},
   "source": [
    "**Introduction**"
   ]
  },
  {
   "cell_type": "markdown",
   "metadata": {},
   "source": [
    "Principal Component Analysis(PCA) is an unsupervised statistical technique used to examine the interrelation among a set of variables in order to identify the underlying structure of those variables. In simple words, suppose you have 30 features column in a data frame so it will help to reduce the number of features making a new feature which is the combined effect of all the feature of the data frame. It is also known as factor analysis.  \n",
    "\n",
    "So, in regression, we usually determine the line of best fit to the dataset but here in the PCA, we determine several orthogonal lines of best fit to the dataset. Orthogonal means these lines are at a right angle to each other. Actually, the lines are perpendicular to each other in the n-dimensional space.  \n",
    "\n",
    "Here, n-dimensional space is a variable sample space. The number of dimensions will be the same as there are a number of variables. Eg-A dataset with 3 features or variable will have 3-dimensional space. So let us visualize what does it mean with an example. Here we have some data plotted with two features x and y and we had a regression line of best fit."
   ]
  },
  {
   "cell_type": "markdown",
   "metadata": {},
   "source": [
    "![jupyter](./figures/regression.png)"
   ]
  },
  {
   "cell_type": "markdown",
   "metadata": {},
   "source": [
    "Now we are going to add an orthogonal line to the first line."
   ]
  },
  {
   "cell_type": "markdown",
   "metadata": {},
   "source": [
    "![jupyter](./figures/orthogonal.png)"
   ]
  },
  {
   "cell_type": "markdown",
   "metadata": {},
   "source": [
    "Components are a linear transformation that chooses a variable system for the dataset such that the greatest variance of the dataset comes to lie on the first axis. Likewise, the second greatest variance on the second axis and so on… Hence, this process will allow us to reduce the number of variables in the dataset.  \n",
    "\n",
    "We will understand this better when we implement and visualize using the python code."
   ]
  },
  {
   "cell_type": "markdown",
   "metadata": {},
   "source": [
    "**Step1: Import Libraries Get Data**"
   ]
  },
  {
   "cell_type": "code",
   "execution_count": 2,
   "metadata": {},
   "outputs": [],
   "source": [
    "# We will import the important python libraries required for this algorithm\n",
    "\n",
    "import matplotlib.pyplot as plt\n",
    "import pandas as pd\n",
    "import numpy as np\n",
    "import seaborn as sns\n",
    "%matplotlib inline"
   ]
  },
  {
   "cell_type": "code",
   "execution_count": 3,
   "metadata": {},
   "outputs": [],
   "source": [
    "# Import the dataset from the python library sci-kit-learn.\n",
    "\n",
    "from sklearn.datasets import load_breast_cancer\n",
    "cancer = load_breast_cancer()"
   ]
  },
  {
   "cell_type": "code",
   "execution_count": 4,
   "metadata": {},
   "outputs": [],
   "source": [
    "# See load_breast_cancer? for detailed introduction of the dataset\n",
    "load_breast_cancer?"
   ]
  },
  {
   "cell_type": "markdown",
   "metadata": {},
   "source": [
    "The datset is in a form of a dictionary."
   ]
  },
  {
   "cell_type": "code",
   "execution_count": 5,
   "metadata": {},
   "outputs": [
    {
     "data": {
      "text/plain": [
       "dict_keys(['data', 'target', 'target_names', 'DESCR', 'feature_names', 'filename'])"
      ]
     },
     "execution_count": 5,
     "metadata": {},
     "output_type": "execute_result"
    }
   ],
   "source": [
    "cancer.keys()"
   ]
  },
  {
   "cell_type": "code",
   "execution_count": 6,
   "metadata": {},
   "outputs": [
    {
     "name": "stdout",
     "output_type": "stream",
     "text": [
      "[[1.799e+01 1.038e+01 1.228e+02 ... 2.654e-01 4.601e-01 1.189e-01]\n",
      " [2.057e+01 1.777e+01 1.329e+02 ... 1.860e-01 2.750e-01 8.902e-02]\n",
      " [1.969e+01 2.125e+01 1.300e+02 ... 2.430e-01 3.613e-01 8.758e-02]\n",
      " ...\n",
      " [1.660e+01 2.808e+01 1.083e+02 ... 1.418e-01 2.218e-01 7.820e-02]\n",
      " [2.060e+01 2.933e+01 1.401e+02 ... 2.650e-01 4.087e-01 1.240e-01]\n",
      " [7.760e+00 2.454e+01 4.792e+01 ... 0.000e+00 2.871e-01 7.039e-02]]\n",
      "['mean radius' 'mean texture' 'mean perimeter' 'mean area'\n",
      " 'mean smoothness' 'mean compactness' 'mean concavity'\n",
      " 'mean concave points' 'mean symmetry' 'mean fractal dimension'\n",
      " 'radius error' 'texture error' 'perimeter error' 'area error'\n",
      " 'smoothness error' 'compactness error' 'concavity error'\n",
      " 'concave points error' 'symmetry error' 'fractal dimension error'\n",
      " 'worst radius' 'worst texture' 'worst perimeter' 'worst area'\n",
      " 'worst smoothness' 'worst compactness' 'worst concavity'\n",
      " 'worst concave points' 'worst symmetry' 'worst fractal dimension']\n"
     ]
    }
   ],
   "source": [
    "print(cancer['data'])\n",
    "print(cancer['feature_names'])"
   ]
  },
  {
   "cell_type": "code",
   "execution_count": 7,
   "metadata": {},
   "outputs": [
    {
     "name": "stdout",
     "output_type": "stream",
     "text": [
      "[0 0 0 0 0 0 0 0 0 0 0 0 0 0 0 0 0 0 0 1 1 1 0 0 0 0 0 0 0 0 0 0 0 0 0 0 0\n",
      " 1 0 0 0 0 0 0 0 0 1 0 1 1 1 1 1 0 0 1 0 0 1 1 1 1 0 1 0 0 1 1 1 1 0 1 0 0\n",
      " 1 0 1 0 0 1 1 1 0 0 1 0 0 0 1 1 1 0 1 1 0 0 1 1 1 0 0 1 1 1 1 0 1 1 0 1 1\n",
      " 1 1 1 1 1 1 0 0 0 1 0 0 1 1 1 0 0 1 0 1 0 0 1 0 0 1 1 0 1 1 0 1 1 1 1 0 1\n",
      " 1 1 1 1 1 1 1 1 0 1 1 1 1 0 0 1 0 1 1 0 0 1 1 0 0 1 1 1 1 0 1 1 0 0 0 1 0\n",
      " 1 0 1 1 1 0 1 1 0 0 1 0 0 0 0 1 0 0 0 1 0 1 0 1 1 0 1 0 0 0 0 1 1 0 0 1 1\n",
      " 1 0 1 1 1 1 1 0 0 1 1 0 1 1 0 0 1 0 1 1 1 1 0 1 1 1 1 1 0 1 0 0 0 0 0 0 0\n",
      " 0 0 0 0 0 0 0 1 1 1 1 1 1 0 1 0 1 1 0 1 1 0 1 0 0 1 1 1 1 1 1 1 1 1 1 1 1\n",
      " 1 0 1 1 0 1 0 1 1 1 1 1 1 1 1 1 1 1 1 1 1 0 1 1 1 0 1 0 1 1 1 1 0 0 0 1 1\n",
      " 1 1 0 1 0 1 0 1 1 1 0 1 1 1 1 1 1 1 0 0 0 1 1 1 1 1 1 1 1 1 1 1 0 0 1 0 0\n",
      " 0 1 0 0 1 1 1 1 1 0 1 1 1 1 1 0 1 1 1 0 1 1 0 0 1 1 1 1 1 1 0 1 1 1 1 1 1\n",
      " 1 0 1 1 1 1 1 0 1 1 0 1 1 1 1 1 1 1 1 1 1 1 1 0 1 0 0 1 0 1 1 1 1 1 0 1 1\n",
      " 0 1 0 1 1 0 1 0 1 1 1 1 1 1 1 1 0 0 1 1 1 1 1 1 0 1 1 1 1 1 1 1 1 1 1 0 1\n",
      " 1 1 1 1 1 1 0 1 0 1 1 0 1 1 1 1 1 0 0 1 0 1 0 1 1 1 1 1 0 1 1 0 1 0 1 0 0\n",
      " 1 1 1 0 1 1 1 1 1 1 1 1 1 1 1 0 1 0 0 1 1 1 1 1 1 1 1 1 1 1 1 1 1 1 1 1 1\n",
      " 1 1 1 1 1 1 1 0 0 0 0 0 0 1]\n",
      "['malignant' 'benign']\n"
     ]
    }
   ],
   "source": [
    "print(cancer['target'])\n",
    "print(cancer['target_names'])"
   ]
  },
  {
   "cell_type": "code",
   "execution_count": 8,
   "metadata": {},
   "outputs": [
    {
     "data": {
      "text/html": [
       "<div>\n",
       "<style scoped>\n",
       "    .dataframe tbody tr th:only-of-type {\n",
       "        vertical-align: middle;\n",
       "    }\n",
       "\n",
       "    .dataframe tbody tr th {\n",
       "        vertical-align: top;\n",
       "    }\n",
       "\n",
       "    .dataframe thead th {\n",
       "        text-align: right;\n",
       "    }\n",
       "</style>\n",
       "<table border=\"1\" class=\"dataframe\">\n",
       "  <thead>\n",
       "    <tr style=\"text-align: right;\">\n",
       "      <th></th>\n",
       "      <th>mean radius</th>\n",
       "      <th>mean texture</th>\n",
       "      <th>mean perimeter</th>\n",
       "      <th>mean area</th>\n",
       "      <th>mean smoothness</th>\n",
       "      <th>mean compactness</th>\n",
       "      <th>mean concavity</th>\n",
       "      <th>mean concave points</th>\n",
       "      <th>mean symmetry</th>\n",
       "      <th>mean fractal dimension</th>\n",
       "      <th>...</th>\n",
       "      <th>worst radius</th>\n",
       "      <th>worst texture</th>\n",
       "      <th>worst perimeter</th>\n",
       "      <th>worst area</th>\n",
       "      <th>worst smoothness</th>\n",
       "      <th>worst compactness</th>\n",
       "      <th>worst concavity</th>\n",
       "      <th>worst concave points</th>\n",
       "      <th>worst symmetry</th>\n",
       "      <th>worst fractal dimension</th>\n",
       "    </tr>\n",
       "  </thead>\n",
       "  <tbody>\n",
       "    <tr>\n",
       "      <th>0</th>\n",
       "      <td>17.99</td>\n",
       "      <td>10.38</td>\n",
       "      <td>122.80</td>\n",
       "      <td>1001.0</td>\n",
       "      <td>0.11840</td>\n",
       "      <td>0.27760</td>\n",
       "      <td>0.3001</td>\n",
       "      <td>0.14710</td>\n",
       "      <td>0.2419</td>\n",
       "      <td>0.07871</td>\n",
       "      <td>...</td>\n",
       "      <td>25.38</td>\n",
       "      <td>17.33</td>\n",
       "      <td>184.60</td>\n",
       "      <td>2019.0</td>\n",
       "      <td>0.1622</td>\n",
       "      <td>0.6656</td>\n",
       "      <td>0.7119</td>\n",
       "      <td>0.2654</td>\n",
       "      <td>0.4601</td>\n",
       "      <td>0.11890</td>\n",
       "    </tr>\n",
       "    <tr>\n",
       "      <th>1</th>\n",
       "      <td>20.57</td>\n",
       "      <td>17.77</td>\n",
       "      <td>132.90</td>\n",
       "      <td>1326.0</td>\n",
       "      <td>0.08474</td>\n",
       "      <td>0.07864</td>\n",
       "      <td>0.0869</td>\n",
       "      <td>0.07017</td>\n",
       "      <td>0.1812</td>\n",
       "      <td>0.05667</td>\n",
       "      <td>...</td>\n",
       "      <td>24.99</td>\n",
       "      <td>23.41</td>\n",
       "      <td>158.80</td>\n",
       "      <td>1956.0</td>\n",
       "      <td>0.1238</td>\n",
       "      <td>0.1866</td>\n",
       "      <td>0.2416</td>\n",
       "      <td>0.1860</td>\n",
       "      <td>0.2750</td>\n",
       "      <td>0.08902</td>\n",
       "    </tr>\n",
       "    <tr>\n",
       "      <th>2</th>\n",
       "      <td>19.69</td>\n",
       "      <td>21.25</td>\n",
       "      <td>130.00</td>\n",
       "      <td>1203.0</td>\n",
       "      <td>0.10960</td>\n",
       "      <td>0.15990</td>\n",
       "      <td>0.1974</td>\n",
       "      <td>0.12790</td>\n",
       "      <td>0.2069</td>\n",
       "      <td>0.05999</td>\n",
       "      <td>...</td>\n",
       "      <td>23.57</td>\n",
       "      <td>25.53</td>\n",
       "      <td>152.50</td>\n",
       "      <td>1709.0</td>\n",
       "      <td>0.1444</td>\n",
       "      <td>0.4245</td>\n",
       "      <td>0.4504</td>\n",
       "      <td>0.2430</td>\n",
       "      <td>0.3613</td>\n",
       "      <td>0.08758</td>\n",
       "    </tr>\n",
       "    <tr>\n",
       "      <th>3</th>\n",
       "      <td>11.42</td>\n",
       "      <td>20.38</td>\n",
       "      <td>77.58</td>\n",
       "      <td>386.1</td>\n",
       "      <td>0.14250</td>\n",
       "      <td>0.28390</td>\n",
       "      <td>0.2414</td>\n",
       "      <td>0.10520</td>\n",
       "      <td>0.2597</td>\n",
       "      <td>0.09744</td>\n",
       "      <td>...</td>\n",
       "      <td>14.91</td>\n",
       "      <td>26.50</td>\n",
       "      <td>98.87</td>\n",
       "      <td>567.7</td>\n",
       "      <td>0.2098</td>\n",
       "      <td>0.8663</td>\n",
       "      <td>0.6869</td>\n",
       "      <td>0.2575</td>\n",
       "      <td>0.6638</td>\n",
       "      <td>0.17300</td>\n",
       "    </tr>\n",
       "    <tr>\n",
       "      <th>4</th>\n",
       "      <td>20.29</td>\n",
       "      <td>14.34</td>\n",
       "      <td>135.10</td>\n",
       "      <td>1297.0</td>\n",
       "      <td>0.10030</td>\n",
       "      <td>0.13280</td>\n",
       "      <td>0.1980</td>\n",
       "      <td>0.10430</td>\n",
       "      <td>0.1809</td>\n",
       "      <td>0.05883</td>\n",
       "      <td>...</td>\n",
       "      <td>22.54</td>\n",
       "      <td>16.67</td>\n",
       "      <td>152.20</td>\n",
       "      <td>1575.0</td>\n",
       "      <td>0.1374</td>\n",
       "      <td>0.2050</td>\n",
       "      <td>0.4000</td>\n",
       "      <td>0.1625</td>\n",
       "      <td>0.2364</td>\n",
       "      <td>0.07678</td>\n",
       "    </tr>\n",
       "  </tbody>\n",
       "</table>\n",
       "<p>5 rows × 30 columns</p>\n",
       "</div>"
      ],
      "text/plain": [
       "   mean radius  mean texture  mean perimeter  mean area  mean smoothness  \\\n",
       "0        17.99         10.38          122.80     1001.0          0.11840   \n",
       "1        20.57         17.77          132.90     1326.0          0.08474   \n",
       "2        19.69         21.25          130.00     1203.0          0.10960   \n",
       "3        11.42         20.38           77.58      386.1          0.14250   \n",
       "4        20.29         14.34          135.10     1297.0          0.10030   \n",
       "\n",
       "   mean compactness  mean concavity  mean concave points  mean symmetry  \\\n",
       "0           0.27760          0.3001              0.14710         0.2419   \n",
       "1           0.07864          0.0869              0.07017         0.1812   \n",
       "2           0.15990          0.1974              0.12790         0.2069   \n",
       "3           0.28390          0.2414              0.10520         0.2597   \n",
       "4           0.13280          0.1980              0.10430         0.1809   \n",
       "\n",
       "   mean fractal dimension  ...  worst radius  worst texture  worst perimeter  \\\n",
       "0                 0.07871  ...         25.38          17.33           184.60   \n",
       "1                 0.05667  ...         24.99          23.41           158.80   \n",
       "2                 0.05999  ...         23.57          25.53           152.50   \n",
       "3                 0.09744  ...         14.91          26.50            98.87   \n",
       "4                 0.05883  ...         22.54          16.67           152.20   \n",
       "\n",
       "   worst area  worst smoothness  worst compactness  worst concavity  \\\n",
       "0      2019.0            0.1622             0.6656           0.7119   \n",
       "1      1956.0            0.1238             0.1866           0.2416   \n",
       "2      1709.0            0.1444             0.4245           0.4504   \n",
       "3       567.7            0.2098             0.8663           0.6869   \n",
       "4      1575.0            0.1374             0.2050           0.4000   \n",
       "\n",
       "   worst concave points  worst symmetry  worst fractal dimension  \n",
       "0                0.2654          0.4601                  0.11890  \n",
       "1                0.1860          0.2750                  0.08902  \n",
       "2                0.2430          0.3613                  0.08758  \n",
       "3                0.2575          0.6638                  0.17300  \n",
       "4                0.1625          0.2364                  0.07678  \n",
       "\n",
       "[5 rows x 30 columns]"
      ]
     },
     "execution_count": 8,
     "metadata": {},
     "output_type": "execute_result"
    }
   ],
   "source": [
    "# Now lets make the Dataframe for the given data and check its head value.\n",
    "\n",
    "df = pd.DataFrame(cancer['data'],columns=cancer['feature_names'])\n",
    "df.head()"
   ]
  },
  {
   "cell_type": "markdown",
   "metadata": {},
   "source": [
    "**Step2: Standardize the Data**"
   ]
  },
  {
   "cell_type": "markdown",
   "metadata": {},
   "source": [
    "As we know it is difficult to visualize the data with so many features i.e high dimensional data so we can use PCA to find the two principal components hence visualize the data in two-dimensional space with a single scatter plot.   \n",
    "  \n",
    "But, before that, we need to pre-process the data i.e we need to scale the data such that each feature has unit variance and has not a greater impact than the other one."
   ]
  },
  {
   "cell_type": "code",
   "execution_count": 9,
   "metadata": {},
   "outputs": [
    {
     "data": {
      "text/plain": [
       "StandardScaler(copy=True, with_mean=True, with_std=True)"
      ]
     },
     "execution_count": 9,
     "metadata": {},
     "output_type": "execute_result"
    }
   ],
   "source": [
    "from sklearn.preprocessing import StandardScaler\n",
    "scaler = StandardScaler()\n",
    "scaler.fit(df)"
   ]
  },
  {
   "cell_type": "code",
   "execution_count": 19,
   "metadata": {},
   "outputs": [],
   "source": [
    "# See StandardScaler? for detailed algorithm of standardization\n",
    "StandardScaler?"
   ]
  },
  {
   "cell_type": "code",
   "execution_count": 17,
   "metadata": {},
   "outputs": [],
   "source": [
    "scaled_data = scaler.transform(df)"
   ]
  },
  {
   "cell_type": "code",
   "execution_count": 15,
   "metadata": {},
   "outputs": [
    {
     "data": {
      "text/plain": [
       "array([[ 1.09706398, -2.07333501,  1.26993369, ...,  2.29607613,\n",
       "         2.75062224,  1.93701461],\n",
       "       [ 1.82982061, -0.35363241,  1.68595471, ...,  1.0870843 ,\n",
       "        -0.24388967,  0.28118999],\n",
       "       [ 1.57988811,  0.45618695,  1.56650313, ...,  1.95500035,\n",
       "         1.152255  ,  0.20139121],\n",
       "       ...,\n",
       "       [ 0.70228425,  2.0455738 ,  0.67267578, ...,  0.41406869,\n",
       "        -1.10454895, -0.31840916],\n",
       "       [ 1.83834103,  2.33645719,  1.98252415, ...,  2.28998549,\n",
       "         1.91908301,  2.21963528],\n",
       "       [-1.80840125,  1.22179204, -1.81438851, ..., -1.74506282,\n",
       "        -0.04813821, -0.75120669]])"
      ]
     },
     "execution_count": 15,
     "metadata": {},
     "output_type": "execute_result"
    }
   ],
   "source": [
    "scaled_data"
   ]
  },
  {
   "cell_type": "markdown",
   "metadata": {},
   "source": [
    "**Step 3: Find the Principal Components**"
   ]
  },
  {
   "cell_type": "markdown",
   "metadata": {},
   "source": [
    "PCA with Scikit Learn uses a very similar process to other preprocessing functions that come with SciKit Learn. We instantiate a PCA object, find the principal components using the fit method, then apply the rotation and dimensionality reduction by calling transform().  \n",
    "\n",
    "We can also specify how many components we want to keep when creating the PCA object.  \n",
    "Here,we will specify number of components as 2"
   ]
  },
  {
   "cell_type": "code",
   "execution_count": 20,
   "metadata": {},
   "outputs": [
    {
     "data": {
      "text/plain": [
       "PCA(copy=True, iterated_power='auto', n_components=2, random_state=None,\n",
       "    svd_solver='auto', tol=0.0, whiten=False)"
      ]
     },
     "execution_count": 20,
     "metadata": {},
     "output_type": "execute_result"
    }
   ],
   "source": [
    "from sklearn.decomposition import PCA\n",
    "pca = PCA(n_components=2)  # We specify the number of components as 2\n",
    "pca.fit(scaled_data)"
   ]
  },
  {
   "cell_type": "code",
   "execution_count": 21,
   "metadata": {},
   "outputs": [],
   "source": [
    "# See PCA? for detailed explanation of the PCA algorithm provided by sklearn\n",
    "\n",
    "PCA?"
   ]
  },
  {
   "cell_type": "markdown",
   "metadata": {},
   "source": [
    "See https://scikit-learn.org/stable/modules/generated/sklearn.decomposition.PCA.html for doc of *sklearn* PCA."
   ]
  },
  {
   "cell_type": "code",
   "execution_count": 23,
   "metadata": {},
   "outputs": [],
   "source": [
    "# Now we can transform this data to its first 2 principal components.\n",
    "\n",
    "x_pca = pca.transform(scaled_data)"
   ]
  },
  {
   "cell_type": "code",
   "execution_count": 24,
   "metadata": {},
   "outputs": [
    {
     "data": {
      "text/plain": [
       "(569, 30)"
      ]
     },
     "execution_count": 24,
     "metadata": {},
     "output_type": "execute_result"
    }
   ],
   "source": [
    "scaled_data.shape"
   ]
  },
  {
   "cell_type": "code",
   "execution_count": 34,
   "metadata": {},
   "outputs": [
    {
     "data": {
      "text/plain": [
       "(569, 2)"
      ]
     },
     "execution_count": 34,
     "metadata": {},
     "output_type": "execute_result"
    }
   ],
   "source": [
    "x_pca.shape"
   ]
  },
  {
   "cell_type": "code",
   "execution_count": 26,
   "metadata": {},
   "outputs": [
    {
     "name": "stdout",
     "output_type": "stream",
     "text": [
      "PCA compresses the data dimension from (569, 30) to (569, 2)\n"
     ]
    }
   ],
   "source": [
    "print(f'PCA compresses the data dimension from {scaled_data.shape} to {x_pca.shape}')"
   ]
  },
  {
   "cell_type": "markdown",
   "metadata": {},
   "source": [
    "**Step 4: Scatter Plot**"
   ]
  },
  {
   "cell_type": "code",
   "execution_count": 32,
   "metadata": {},
   "outputs": [
    {
     "data": {
      "text/plain": [
       "Text(0, 0.5, 'Second Principal Component')"
      ]
     },
     "execution_count": 32,
     "metadata": {},
     "output_type": "execute_result"
    },
    {
     "data": {
      "image/png": "[encoded data removed]",
      "text/plain": [
       "<Figure size 576x432 with 1 Axes>"
      ]
     },
     "metadata": {
      "needs_background": "light"
     },
     "output_type": "display_data"
    }
   ],
   "source": [
    "plt.figure(figsize=(8,6))\n",
    "plt.scatter(x_pca[:,0],x_pca[:,1],c=cancer['target'],cmap='rainbow')\n",
    "plt.xlabel('First Principal Component')\n",
    "plt.ylabel('Second Principal Component')"
   ]
  },
  {
   "cell_type": "markdown",
   "metadata": {},
   "source": [
    "**Finding:** As we can see from the scatter plot, the PCA helps to distinguish malignant brest cancer from benign breast tumour."
   ]
  },
  {
   "cell_type": "markdown",
   "metadata": {},
   "source": [
    "**Step 5: Interprete the Components**"
   ]
  },
  {
   "cell_type": "markdown",
   "metadata": {},
   "source": [
    "Its not easy to understand these component reduction.The components correspond to combinations of the original features, the components themselves are stored as an attribute of the fitted PCA object:"
   ]
  },
  {
   "cell_type": "code",
   "execution_count": 29,
   "metadata": {},
   "outputs": [
    {
     "data": {
      "text/plain": [
       "array([[ 0.21890244,  0.10372458,  0.22753729,  0.22099499,  0.14258969,\n",
       "         0.23928535,  0.25840048,  0.26085376,  0.13816696,  0.06436335,\n",
       "         0.20597878,  0.01742803,  0.21132592,  0.20286964,  0.01453145,\n",
       "         0.17039345,  0.15358979,  0.1834174 ,  0.04249842,  0.10256832,\n",
       "         0.22799663,  0.10446933,  0.23663968,  0.22487053,  0.12795256,\n",
       "         0.21009588,  0.22876753,  0.25088597,  0.12290456,  0.13178394],\n",
       "       [-0.23385713, -0.05970609, -0.21518136, -0.23107671,  0.18611302,\n",
       "         0.15189161,  0.06016536, -0.0347675 ,  0.19034877,  0.36657547,\n",
       "        -0.10555215,  0.08997968, -0.08945723, -0.15229263,  0.20443045,\n",
       "         0.2327159 ,  0.19720728,  0.13032156,  0.183848  ,  0.28009203,\n",
       "        -0.21986638, -0.0454673 , -0.19987843, -0.21935186,  0.17230435,\n",
       "         0.14359317,  0.09796411, -0.00825724,  0.14188335,  0.27533947]])"
      ]
     },
     "execution_count": 29,
     "metadata": {},
     "output_type": "execute_result"
    }
   ],
   "source": [
    "pca.components_"
   ]
  },
  {
   "cell_type": "code",
   "execution_count": 31,
   "metadata": {},
   "outputs": [
    {
     "data": {
      "text/plain": [
       "<matplotlib.axes._subplots.AxesSubplot at 0xceaea20>"
      ]
     },
     "execution_count": 31,
     "metadata": {},
     "output_type": "execute_result"
    },
    {
     "data": {
      "image/png": "[encoded data removed]",
      "text/plain": [
       "<Figure size 864x432 with 2 Axes>"
      ]
     },
     "metadata": {
      "needs_background": "light"
     },
     "output_type": "display_data"
    }
   ],
   "source": [
    "# We can visualize this using heatmap-\n",
    "\n",
    "map= pd.DataFrame(pca.components_,columns=cancer['feature_names'])\n",
    "plt.figure(figsize=(12,6))\n",
    "sns.heatmap(map,cmap='twilight')"
   ]
  },
  {
   "cell_type": "markdown",
   "metadata": {},
   "source": [
    "This heatmap and the color bar basically represent the correlation between the various feature and the principal component itself."
   ]
  },
  {
   "cell_type": "markdown",
   "metadata": {},
   "source": [
    "## Example 2: Trade Sturcture##"
   ]
  },
  {
   "attachments": {},
   "cell_type": "markdown",
   "metadata": {},
   "source": [
    "In this case, I use PCA algorithm to analysis the data of export and import structure data of China and its 18 major trade partners.   \n",
    "The data includes shares of different categories of merchandise exports in 2016, where the abbreviations stand for:  \n",
    "\n",
    "MMTL: Ores and metals exports (% of merchandise exports)  \n",
    "MANF: Manufactures edports (% of merchandise exports)  \n",
    "INSF: Insurance and financial services (% of commercial service exports)  \n",
    "ICTG: ICT goods exports (% total goods exports)  \n",
    "FUEL: Fuel exports (% of merchandise exports)  \n",
    "FOOD: Food exports (% of merchandise exports)  \n",
    "AGRI: Agricultural raw materials exports (% of merchandise exports)  \n",
    "  \n",
    "Data comes from *World Bank WDI*. See https://data.worldbank.org/ for reference.\n",
    "\n",
    "*Notice that the sum of export shares for each economy are usually above 100(%), because there are overlaps among categories.*"
   ]
  },
  {
   "cell_type": "code",
   "execution_count": 81,
   "metadata": {},
   "outputs": [
    {
     "data": {
      "text/html": [
       "<div>\n",
       "<style scoped>\n",
       "    .dataframe tbody tr th:only-of-type {\n",
       "        vertical-align: middle;\n",
       "    }\n",
       "\n",
       "    .dataframe tbody tr th {\n",
       "        vertical-align: top;\n",
       "    }\n",
       "\n",
       "    .dataframe thead th {\n",
       "        text-align: right;\n",
       "    }\n",
       "</style>\n",
       "<table border=\"1\" class=\"dataframe\">\n",
       "  <thead>\n",
       "    <tr style=\"text-align: right;\">\n",
       "      <th></th>\n",
       "      <th>MMTL</th>\n",
       "      <th>MANF</th>\n",
       "      <th>INSF</th>\n",
       "      <th>ICTG</th>\n",
       "      <th>FUEL</th>\n",
       "      <th>FOOD</th>\n",
       "      <th>AGRI</th>\n",
       "    </tr>\n",
       "  </thead>\n",
       "  <tbody>\n",
       "    <tr>\n",
       "      <th>AUS</th>\n",
       "      <td>31.718689</td>\n",
       "      <td>17.618145</td>\n",
       "      <td>5.568288</td>\n",
       "      <td>1.307327</td>\n",
       "      <td>27.653921</td>\n",
       "      <td>15.845985</td>\n",
       "      <td>2.940792</td>\n",
       "    </tr>\n",
       "    <tr>\n",
       "      <th>BRA</th>\n",
       "      <td>10.465105</td>\n",
       "      <td>39.862445</td>\n",
       "      <td>4.675611</td>\n",
       "      <td>0.389613</td>\n",
       "      <td>6.344692</td>\n",
       "      <td>37.290676</td>\n",
       "      <td>4.812005</td>\n",
       "    </tr>\n",
       "    <tr>\n",
       "      <th>CAN</th>\n",
       "      <td>7.112788</td>\n",
       "      <td>54.491779</td>\n",
       "      <td>11.683897</td>\n",
       "      <td>2.117709</td>\n",
       "      <td>18.284027</td>\n",
       "      <td>13.318946</td>\n",
       "      <td>4.929012</td>\n",
       "    </tr>\n",
       "    <tr>\n",
       "      <th>CNH</th>\n",
       "      <td>1.163359</td>\n",
       "      <td>93.754539</td>\n",
       "      <td>3.493364</td>\n",
       "      <td>26.497625</td>\n",
       "      <td>1.285976</td>\n",
       "      <td>3.154573</td>\n",
       "      <td>0.420347</td>\n",
       "    </tr>\n",
       "    <tr>\n",
       "      <th>DEU</th>\n",
       "      <td>2.326947</td>\n",
       "      <td>83.998874</td>\n",
       "      <td>12.432090</td>\n",
       "      <td>4.657138</td>\n",
       "      <td>1.729654</td>\n",
       "      <td>5.522656</td>\n",
       "      <td>0.715266</td>\n",
       "    </tr>\n",
       "    <tr>\n",
       "      <th>FRA</th>\n",
       "      <td>1.924184</td>\n",
       "      <td>79.833402</td>\n",
       "      <td>8.204326</td>\n",
       "      <td>3.981576</td>\n",
       "      <td>2.397809</td>\n",
       "      <td>12.439275</td>\n",
       "      <td>0.925561</td>\n",
       "    </tr>\n",
       "    <tr>\n",
       "      <th>GBR</th>\n",
       "      <td>3.573784</td>\n",
       "      <td>79.088193</td>\n",
       "      <td>32.852699</td>\n",
       "      <td>4.502104</td>\n",
       "      <td>6.523051</td>\n",
       "      <td>7.102898</td>\n",
       "      <td>0.605281</td>\n",
       "    </tr>\n",
       "    <tr>\n",
       "      <th>HKG</th>\n",
       "      <td>11.881454</td>\n",
       "      <td>62.984585</td>\n",
       "      <td>19.577304</td>\n",
       "      <td>49.992232</td>\n",
       "      <td>4.226232</td>\n",
       "      <td>17.305315</td>\n",
       "      <td>2.742667</td>\n",
       "    </tr>\n",
       "    <tr>\n",
       "      <th>IDN</th>\n",
       "      <td>5.724282</td>\n",
       "      <td>47.668319</td>\n",
       "      <td>1.838095</td>\n",
       "      <td>3.369205</td>\n",
       "      <td>19.303630</td>\n",
       "      <td>22.489825</td>\n",
       "      <td>4.766738</td>\n",
       "    </tr>\n",
       "    <tr>\n",
       "      <th>IND</th>\n",
       "      <td>3.069276</td>\n",
       "      <td>73.068260</td>\n",
       "      <td>4.471141</td>\n",
       "      <td>0.952560</td>\n",
       "      <td>10.771245</td>\n",
       "      <td>11.347099</td>\n",
       "      <td>1.379449</td>\n",
       "    </tr>\n",
       "    <tr>\n",
       "      <th>JPN</th>\n",
       "      <td>2.387041</td>\n",
       "      <td>88.539242</td>\n",
       "      <td>8.177240</td>\n",
       "      <td>8.313261</td>\n",
       "      <td>1.414107</td>\n",
       "      <td>0.902413</td>\n",
       "      <td>0.747927</td>\n",
       "    </tr>\n",
       "    <tr>\n",
       "      <th>KOR</th>\n",
       "      <td>2.096643</td>\n",
       "      <td>90.092226</td>\n",
       "      <td>2.621194</td>\n",
       "      <td>22.270229</td>\n",
       "      <td>5.425541</td>\n",
       "      <td>1.406422</td>\n",
       "      <td>0.851465</td>\n",
       "    </tr>\n",
       "    <tr>\n",
       "      <th>MYS</th>\n",
       "      <td>3.874519</td>\n",
       "      <td>68.517705</td>\n",
       "      <td>2.287978</td>\n",
       "      <td>30.534586</td>\n",
       "      <td>13.783290</td>\n",
       "      <td>11.586031</td>\n",
       "      <td>1.926984</td>\n",
       "    </tr>\n",
       "    <tr>\n",
       "      <th>PHL</th>\n",
       "      <td>4.051584</td>\n",
       "      <td>85.264892</td>\n",
       "      <td>1.509968</td>\n",
       "      <td>43.214604</td>\n",
       "      <td>1.337929</td>\n",
       "      <td>8.457403</td>\n",
       "      <td>0.847101</td>\n",
       "    </tr>\n",
       "    <tr>\n",
       "      <th>RUS</th>\n",
       "      <td>6.647704</td>\n",
       "      <td>21.765421</td>\n",
       "      <td>3.125894</td>\n",
       "      <td>0.546647</td>\n",
       "      <td>47.185603</td>\n",
       "      <td>5.916136</td>\n",
       "      <td>2.576009</td>\n",
       "    </tr>\n",
       "    <tr>\n",
       "      <th>SGP</th>\n",
       "      <td>1.140452</td>\n",
       "      <td>79.073560</td>\n",
       "      <td>17.574068</td>\n",
       "      <td>33.635448</td>\n",
       "      <td>11.366839</td>\n",
       "      <td>2.980655</td>\n",
       "      <td>0.558206</td>\n",
       "    </tr>\n",
       "    <tr>\n",
       "      <th>THA</th>\n",
       "      <td>1.244410</td>\n",
       "      <td>78.240950</td>\n",
       "      <td>1.175489</td>\n",
       "      <td>15.786666</td>\n",
       "      <td>2.734769</td>\n",
       "      <td>13.892505</td>\n",
       "      <td>3.870518</td>\n",
       "    </tr>\n",
       "    <tr>\n",
       "      <th>USA</th>\n",
       "      <td>2.755947</td>\n",
       "      <td>63.540457</td>\n",
       "      <td>15.612799</td>\n",
       "      <td>9.663272</td>\n",
       "      <td>7.715920</td>\n",
       "      <td>10.755312</td>\n",
       "      <td>2.300885</td>\n",
       "    </tr>\n",
       "    <tr>\n",
       "      <th>VNM</th>\n",
       "      <td>0.741591</td>\n",
       "      <td>82.805875</td>\n",
       "      <td>0.000000</td>\n",
       "      <td>31.239534</td>\n",
       "      <td>2.031322</td>\n",
       "      <td>12.871823</td>\n",
       "      <td>1.406569</td>\n",
       "    </tr>\n",
       "  </tbody>\n",
       "</table>\n",
       "</div>"
      ],
      "text/plain": [
       "          MMTL       MANF       INSF       ICTG       FUEL       FOOD  \\\n",
       "AUS  31.718689  17.618145   5.568288   1.307327  27.653921  15.845985   \n",
       "BRA  10.465105  39.862445   4.675611   0.389613   6.344692  37.290676   \n",
       "CAN   7.112788  54.491779  11.683897   2.117709  18.284027  13.318946   \n",
       "CNH   1.163359  93.754539   3.493364  26.497625   1.285976   3.154573   \n",
       "DEU   2.326947  83.998874  12.432090   4.657138   1.729654   5.522656   \n",
       "FRA   1.924184  79.833402   8.204326   3.981576   2.397809  12.439275   \n",
       "GBR   3.573784  79.088193  32.852699   4.502104   6.523051   7.102898   \n",
       "HKG  11.881454  62.984585  19.577304  49.992232   4.226232  17.305315   \n",
       "IDN   5.724282  47.668319   1.838095   3.369205  19.303630  22.489825   \n",
       "IND   3.069276  73.068260   4.471141   0.952560  10.771245  11.347099   \n",
       "JPN   2.387041  88.539242   8.177240   8.313261   1.414107   0.902413   \n",
       "KOR   2.096643  90.092226   2.621194  22.270229   5.425541   1.406422   \n",
       "MYS   3.874519  68.517705   2.287978  30.534586  13.783290  11.586031   \n",
       "PHL   4.051584  85.264892   1.509968  43.214604   1.337929   8.457403   \n",
       "RUS   6.647704  21.765421   3.125894   0.546647  47.185603   5.916136   \n",
       "SGP   1.140452  79.073560  17.574068  33.635448  11.366839   2.980655   \n",
       "THA   1.244410  78.240950   1.175489  15.786666   2.734769  13.892505   \n",
       "USA   2.755947  63.540457  15.612799   9.663272   7.715920  10.755312   \n",
       "VNM   0.741591  82.805875   0.000000  31.239534   2.031322  12.871823   \n",
       "\n",
       "         AGRI  \n",
       "AUS  2.940792  \n",
       "BRA  4.812005  \n",
       "CAN  4.929012  \n",
       "CNH  0.420347  \n",
       "DEU  0.715266  \n",
       "FRA  0.925561  \n",
       "GBR  0.605281  \n",
       "HKG  2.742667  \n",
       "IDN  4.766738  \n",
       "IND  1.379449  \n",
       "JPN  0.747927  \n",
       "KOR  0.851465  \n",
       "MYS  1.926984  \n",
       "PHL  0.847101  \n",
       "RUS  2.576009  \n",
       "SGP  0.558206  \n",
       "THA  3.870518  \n",
       "USA  2.300885  \n",
       "VNM  1.406569  "
      ]
     },
     "execution_count": 81,
     "metadata": {},
     "output_type": "execute_result"
    }
   ],
   "source": [
    "# Import data\n",
    "datafile = \"./data/Export Structure 2016.xlsx\"\n",
    "ex = pd.read_excel(datafile, index_col=0)\n",
    "ex"
   ]
  },
  {
   "cell_type": "code",
   "execution_count": 82,
   "metadata": {
    "scrolled": true
   },
   "outputs": [
    {
     "data": {
      "text/plain": [
       "StandardScaler(copy=True, with_mean=True, with_std=True)"
      ]
     },
     "execution_count": 82,
     "metadata": {},
     "output_type": "execute_result"
    }
   ],
   "source": [
    "# Standardize the data\n",
    "from sklearn.preprocessing import StandardScaler\n",
    "scaler = StandardScaler()\n",
    "scaler.fit(ex)"
   ]
  },
  {
   "cell_type": "code",
   "execution_count": 83,
   "metadata": {},
   "outputs": [],
   "source": [
    "scaled_ex = scaler.transform(ex)"
   ]
  },
  {
   "cell_type": "code",
   "execution_count": 84,
   "metadata": {},
   "outputs": [
    {
     "data": {
      "text/plain": [
       "PCA(copy=True, iterated_power='auto', n_components=2, random_state=None,\n",
       "    svd_solver='auto', tol=0.0, whiten=False)"
      ]
     },
     "execution_count": 84,
     "metadata": {},
     "output_type": "execute_result"
    }
   ],
   "source": [
    "# Principle component analysis\n",
    "from sklearn.decomposition import PCA\n",
    "pca = PCA(n_components=2)  \n",
    "pca.fit(scaled_ex)"
   ]
  },
  {
   "cell_type": "code",
   "execution_count": 85,
   "metadata": {},
   "outputs": [],
   "source": [
    "ex_pca = pca.transform(scaled_ex)"
   ]
  },
  {
   "cell_type": "code",
   "execution_count": 86,
   "metadata": {},
   "outputs": [
    {
     "data": {
      "text/plain": [
       "(19, 2)"
      ]
     },
     "execution_count": 86,
     "metadata": {},
     "output_type": "execute_result"
    }
   ],
   "source": [
    "ex_pca.shape"
   ]
  },
  {
   "cell_type": "code",
   "execution_count": 99,
   "metadata": {},
   "outputs": [
    {
     "data": {
      "image/png": "[encoded data removed]",
      "text/plain": [
       "<Figure size 576x432 with 1 Axes>"
      ]
     },
     "metadata": {
      "needs_background": "light"
     },
     "output_type": "display_data"
    }
   ],
   "source": [
    "# Scatter plot\n",
    "country = np.array(ex.index) \n",
    "\n",
    "fig = plt.figure(figsize=(8,6))\n",
    "ax = plt.subplot()\n",
    "ax.scatter(ex_pca[:,0],ex_pca[:,1])\n",
    "ax.set_xlabel('First Principal Component',fontsize=12) \n",
    "ax.set_ylabel('Second Principal Component',fontsize=12)\n",
    "\n",
    "for i in range(19):\n",
    "    ax.annotate(str(country[i]),(ex_pca[i,0],ex_pca[i,1]))"
   ]
  },
  {
   "cell_type": "code",
   "execution_count": 88,
   "metadata": {},
   "outputs": [
    {
     "data": {
      "text/plain": [
       "array([[ 0.39449455, -0.52159364, -0.10361528, -0.28333745,  0.38873288,\n",
       "         0.36831204,  0.44105654],\n",
       "       [-0.15612193,  0.1712046 , -0.46345706,  0.28993367, -0.4599319 ,\n",
       "         0.54956004,  0.36593355]])"
      ]
     },
     "execution_count": 88,
     "metadata": {},
     "output_type": "execute_result"
    }
   ],
   "source": [
    "# Interpret the principal components\n",
    "pca.components_"
   ]
  },
  {
   "cell_type": "code",
   "execution_count": 89,
   "metadata": {},
   "outputs": [
    {
     "data": {
      "text/plain": [
       "<matplotlib.axes._subplots.AxesSubplot at 0xf2d3898>"
      ]
     },
     "execution_count": 89,
     "metadata": {},
     "output_type": "execute_result"
    },
    {
     "data": {
      "image/png": "[encoded data removed]",
      "text/plain": [
       "<Figure size 864x432 with 2 Axes>"
      ]
     },
     "metadata": {
      "needs_background": "light"
     },
     "output_type": "display_data"
    }
   ],
   "source": [
    "map= pd.DataFrame(pca.components_,columns=ex.columns)\n",
    "plt.figure(figsize=(12,6))\n",
    "sns.heatmap(map,cmap='twilight')"
   ]
  },
  {
   "cell_type": "markdown",
   "metadata": {},
   "source": [
    "Similarly, we can conduct PCA analysis on data of import structure.  \n",
    "  \n",
    "MMTL: Ores and metals imports (% of merchandise imports)  \n",
    "MANF: Manufactures imports (% of merchandise imports)  \n",
    "INSF: Insurance and financial services (% of commercial service imports)  \n",
    "ICTG: ICT goods imports (% total goods imports)  \n",
    "FUEL: Fuel imports (% of merchandise imports)  \n",
    "FOOD: Food imports (% of merchandise imports)  \n",
    "AGRI: Agricultural raw materials imports (% of merchandise imports)  \n",
    "  \n",
    "Data comes from World Bank WDI. See https://data.worldbank.org/ for reference."
   ]
  },
  {
   "cell_type": "code",
   "execution_count": 90,
   "metadata": {},
   "outputs": [
    {
     "data": {
      "text/html": [
       "<div>\n",
       "<style scoped>\n",
       "    .dataframe tbody tr th:only-of-type {\n",
       "        vertical-align: middle;\n",
       "    }\n",
       "\n",
       "    .dataframe tbody tr th {\n",
       "        vertical-align: top;\n",
       "    }\n",
       "\n",
       "    .dataframe thead th {\n",
       "        text-align: right;\n",
       "    }\n",
       "</style>\n",
       "<table border=\"1\" class=\"dataframe\">\n",
       "  <thead>\n",
       "    <tr style=\"text-align: right;\">\n",
       "      <th></th>\n",
       "      <th>MMTL</th>\n",
       "      <th>MANF</th>\n",
       "      <th>INSF</th>\n",
       "      <th>ICTG</th>\n",
       "      <th>FUEL</th>\n",
       "      <th>FOOD</th>\n",
       "      <th>AGRI</th>\n",
       "    </tr>\n",
       "  </thead>\n",
       "  <tbody>\n",
       "    <tr>\n",
       "      <th>AUS</th>\n",
       "      <td>1.650628</td>\n",
       "      <td>79.395895</td>\n",
       "      <td>3.823295</td>\n",
       "      <td>9.997245</td>\n",
       "      <td>9.593062</td>\n",
       "      <td>7.312321</td>\n",
       "      <td>0.710373</td>\n",
       "    </tr>\n",
       "    <tr>\n",
       "      <th>BRA</th>\n",
       "      <td>3.166539</td>\n",
       "      <td>77.084587</td>\n",
       "      <td>3.622204</td>\n",
       "      <td>8.437638</td>\n",
       "      <td>11.041102</td>\n",
       "      <td>7.400880</td>\n",
       "      <td>1.244480</td>\n",
       "    </tr>\n",
       "    <tr>\n",
       "      <th>CAN</th>\n",
       "      <td>2.612580</td>\n",
       "      <td>79.211049</td>\n",
       "      <td>11.895071</td>\n",
       "      <td>7.073490</td>\n",
       "      <td>6.478202</td>\n",
       "      <td>8.597119</td>\n",
       "      <td>0.906251</td>\n",
       "    </tr>\n",
       "    <tr>\n",
       "      <th>CNH</th>\n",
       "      <td>3.492405</td>\n",
       "      <td>68.187106</td>\n",
       "      <td>3.409531</td>\n",
       "      <td>23.755920</td>\n",
       "      <td>11.128807</td>\n",
       "      <td>6.533163</td>\n",
       "      <td>3.492405</td>\n",
       "    </tr>\n",
       "    <tr>\n",
       "      <th>DEU</th>\n",
       "      <td>3.742020</td>\n",
       "      <td>73.048475</td>\n",
       "      <td>6.172356</td>\n",
       "      <td>8.425617</td>\n",
       "      <td>7.154672</td>\n",
       "      <td>7.955714</td>\n",
       "      <td>1.329108</td>\n",
       "    </tr>\n",
       "    <tr>\n",
       "      <th>FRA</th>\n",
       "      <td>2.240980</td>\n",
       "      <td>78.284640</td>\n",
       "      <td>6.568859</td>\n",
       "      <td>6.666894</td>\n",
       "      <td>8.410143</td>\n",
       "      <td>9.811834</td>\n",
       "      <td>1.142235</td>\n",
       "    </tr>\n",
       "    <tr>\n",
       "      <th>GBR</th>\n",
       "      <td>2.758291</td>\n",
       "      <td>76.956365</td>\n",
       "      <td>6.974854</td>\n",
       "      <td>7.627615</td>\n",
       "      <td>6.931419</td>\n",
       "      <td>10.199291</td>\n",
       "      <td>1.276494</td>\n",
       "    </tr>\n",
       "    <tr>\n",
       "      <th>HKG</th>\n",
       "      <td>0.995456</td>\n",
       "      <td>91.572268</td>\n",
       "      <td>8.240444</td>\n",
       "      <td>50.307417</td>\n",
       "      <td>1.899918</td>\n",
       "      <td>5.257851</td>\n",
       "      <td>0.231365</td>\n",
       "    </tr>\n",
       "    <tr>\n",
       "      <th>IDN</th>\n",
       "      <td>3.184617</td>\n",
       "      <td>66.954967</td>\n",
       "      <td>5.450023</td>\n",
       "      <td>7.966882</td>\n",
       "      <td>14.328995</td>\n",
       "      <td>11.672274</td>\n",
       "      <td>3.093596</td>\n",
       "    </tr>\n",
       "    <tr>\n",
       "      <th>IND</th>\n",
       "      <td>5.534774</td>\n",
       "      <td>55.819472</td>\n",
       "      <td>6.638797</td>\n",
       "      <td>9.333341</td>\n",
       "      <td>26.787436</td>\n",
       "      <td>6.505293</td>\n",
       "      <td>2.166929</td>\n",
       "    </tr>\n",
       "    <tr>\n",
       "      <th>JPN</th>\n",
       "      <td>5.872825</td>\n",
       "      <td>62.293314</td>\n",
       "      <td>6.485127</td>\n",
       "      <td>13.010767</td>\n",
       "      <td>18.277195</td>\n",
       "      <td>10.331385</td>\n",
       "      <td>1.458074</td>\n",
       "    </tr>\n",
       "    <tr>\n",
       "      <th>KOR</th>\n",
       "      <td>6.658887</td>\n",
       "      <td>65.312312</td>\n",
       "      <td>2.413741</td>\n",
       "      <td>15.695691</td>\n",
       "      <td>19.884213</td>\n",
       "      <td>6.421986</td>\n",
       "      <td>1.562151</td>\n",
       "    </tr>\n",
       "    <tr>\n",
       "      <th>MYS</th>\n",
       "      <td>4.824421</td>\n",
       "      <td>73.833322</td>\n",
       "      <td>6.924258</td>\n",
       "      <td>24.699522</td>\n",
       "      <td>10.379839</td>\n",
       "      <td>8.806720</td>\n",
       "      <td>1.729852</td>\n",
       "    </tr>\n",
       "    <tr>\n",
       "      <th>PHL</th>\n",
       "      <td>1.931221</td>\n",
       "      <td>75.948107</td>\n",
       "      <td>7.997484</td>\n",
       "      <td>23.982172</td>\n",
       "      <td>9.743059</td>\n",
       "      <td>11.629145</td>\n",
       "      <td>0.683420</td>\n",
       "    </tr>\n",
       "    <tr>\n",
       "      <th>RUS</th>\n",
       "      <td>1.658152</td>\n",
       "      <td>79.557483</td>\n",
       "      <td>4.112679</td>\n",
       "      <td>8.856145</td>\n",
       "      <td>0.969178</td>\n",
       "      <td>13.090223</td>\n",
       "      <td>1.096651</td>\n",
       "    </tr>\n",
       "    <tr>\n",
       "      <th>SGP</th>\n",
       "      <td>1.738241</td>\n",
       "      <td>73.479366</td>\n",
       "      <td>6.679366</td>\n",
       "      <td>29.002248</td>\n",
       "      <td>18.366433</td>\n",
       "      <td>4.259347</td>\n",
       "      <td>0.483567</td>\n",
       "    </tr>\n",
       "    <tr>\n",
       "      <th>THA</th>\n",
       "      <td>3.860312</td>\n",
       "      <td>74.154657</td>\n",
       "      <td>4.842157</td>\n",
       "      <td>14.002004</td>\n",
       "      <td>13.146208</td>\n",
       "      <td>7.030348</td>\n",
       "      <td>1.664299</td>\n",
       "    </tr>\n",
       "    <tr>\n",
       "      <th>USA</th>\n",
       "      <td>1.920429</td>\n",
       "      <td>79.653500</td>\n",
       "      <td>15.256269</td>\n",
       "      <td>14.055090</td>\n",
       "      <td>7.301083</td>\n",
       "      <td>6.154656</td>\n",
       "      <td>0.953164</td>\n",
       "    </tr>\n",
       "    <tr>\n",
       "      <th>VNM</th>\n",
       "      <td>3.787432</td>\n",
       "      <td>80.065595</td>\n",
       "      <td>0.000000</td>\n",
       "      <td>22.588363</td>\n",
       "      <td>4.432226</td>\n",
       "      <td>8.738736</td>\n",
       "      <td>2.855304</td>\n",
       "    </tr>\n",
       "  </tbody>\n",
       "</table>\n",
       "</div>"
      ],
      "text/plain": [
       "         MMTL       MANF       INSF       ICTG       FUEL       FOOD      AGRI\n",
       "AUS  1.650628  79.395895   3.823295   9.997245   9.593062   7.312321  0.710373\n",
       "BRA  3.166539  77.084587   3.622204   8.437638  11.041102   7.400880  1.244480\n",
       "CAN  2.612580  79.211049  11.895071   7.073490   6.478202   8.597119  0.906251\n",
       "CNH  3.492405  68.187106   3.409531  23.755920  11.128807   6.533163  3.492405\n",
       "DEU  3.742020  73.048475   6.172356   8.425617   7.154672   7.955714  1.329108\n",
       "FRA  2.240980  78.284640   6.568859   6.666894   8.410143   9.811834  1.142235\n",
       "GBR  2.758291  76.956365   6.974854   7.627615   6.931419  10.199291  1.276494\n",
       "HKG  0.995456  91.572268   8.240444  50.307417   1.899918   5.257851  0.231365\n",
       "IDN  3.184617  66.954967   5.450023   7.966882  14.328995  11.672274  3.093596\n",
       "IND  5.534774  55.819472   6.638797   9.333341  26.787436   6.505293  2.166929\n",
       "JPN  5.872825  62.293314   6.485127  13.010767  18.277195  10.331385  1.458074\n",
       "KOR  6.658887  65.312312   2.413741  15.695691  19.884213   6.421986  1.562151\n",
       "MYS  4.824421  73.833322   6.924258  24.699522  10.379839   8.806720  1.729852\n",
       "PHL  1.931221  75.948107   7.997484  23.982172   9.743059  11.629145  0.683420\n",
       "RUS  1.658152  79.557483   4.112679   8.856145   0.969178  13.090223  1.096651\n",
       "SGP  1.738241  73.479366   6.679366  29.002248  18.366433   4.259347  0.483567\n",
       "THA  3.860312  74.154657   4.842157  14.002004  13.146208   7.030348  1.664299\n",
       "USA  1.920429  79.653500  15.256269  14.055090   7.301083   6.154656  0.953164\n",
       "VNM  3.787432  80.065595   0.000000  22.588363   4.432226   8.738736  2.855304"
      ]
     },
     "execution_count": 90,
     "metadata": {},
     "output_type": "execute_result"
    }
   ],
   "source": [
    "# Import data\n",
    "datafile = \"./data/Import Structure 2016.xlsx\"\n",
    "im = pd.read_excel(datafile, index_col=0) \n",
    "im"
   ]
  },
  {
   "cell_type": "code",
   "execution_count": 91,
   "metadata": {},
   "outputs": [
    {
     "data": {
      "text/plain": [
       "StandardScaler(copy=True, with_mean=True, with_std=True)"
      ]
     },
     "execution_count": 91,
     "metadata": {},
     "output_type": "execute_result"
    }
   ],
   "source": [
    "# Standardize the data\n",
    "from sklearn.preprocessing import StandardScaler\n",
    "scaler = StandardScaler()\n",
    "scaler.fit(im)"
   ]
  },
  {
   "cell_type": "code",
   "execution_count": 92,
   "metadata": {},
   "outputs": [],
   "source": [
    "scaled_im = scaler.transform(im)"
   ]
  },
  {
   "cell_type": "code",
   "execution_count": 93,
   "metadata": {},
   "outputs": [
    {
     "data": {
      "text/plain": [
       "PCA(copy=True, iterated_power='auto', n_components=2, random_state=None,\n",
       "    svd_solver='auto', tol=0.0, whiten=False)"
      ]
     },
     "execution_count": 93,
     "metadata": {},
     "output_type": "execute_result"
    }
   ],
   "source": [
    "# Principle component analysis\n",
    "from sklearn.decomposition import PCA\n",
    "pca = PCA(n_components=2)  # We specify the number of components as 2\n",
    "pca.fit(scaled_im)"
   ]
  },
  {
   "cell_type": "code",
   "execution_count": 94,
   "metadata": {},
   "outputs": [],
   "source": [
    "im_pca = pca.transform(scaled_im)"
   ]
  },
  {
   "cell_type": "code",
   "execution_count": 95,
   "metadata": {},
   "outputs": [
    {
     "data": {
      "text/plain": [
       "(19, 2)"
      ]
     },
     "execution_count": 95,
     "metadata": {},
     "output_type": "execute_result"
    }
   ],
   "source": [
    "im_pca.shape"
   ]
  },
  {
   "cell_type": "code",
   "execution_count": 96,
   "metadata": {},
   "outputs": [
    {
     "data": {
      "image/png": "[encoded data removed]",
      "text/plain": [
       "<Figure size 576x432 with 1 Axes>"
      ]
     },
     "metadata": {
      "needs_background": "light"
     },
     "output_type": "display_data"
    }
   ],
   "source": [
    "# Scatter plot\n",
    "country = np.array(im.index) \n",
    "\n",
    "fig = plt.figure(figsize=(8,6))\n",
    "ax = plt.subplot()\n",
    "ax.scatter(im_pca[:,0],im_pca[:,1])\n",
    "ax.set_xlabel('First Principal Component',fontsize=12) \n",
    "ax.set_ylabel('Second Principal Component',fontsize=12)\n",
    "\n",
    "for i in range(19):\n",
    "    ax.annotate(str(country[i]),(im_pca[i,0],im_pca[i,1]))"
   ]
  },
  {
   "cell_type": "code",
   "execution_count": 97,
   "metadata": {},
   "outputs": [
    {
     "data": {
      "text/plain": [
       "array([[-0.49664031,  0.53684963,  0.24395094,  0.23308537, -0.45550593,\n",
       "        -0.01923536, -0.37874051],\n",
       "       [-0.09819596,  0.06891123, -0.18156309, -0.4875813 , -0.36560786,\n",
       "         0.7323375 ,  0.21194526]])"
      ]
     },
     "execution_count": 97,
     "metadata": {},
     "output_type": "execute_result"
    }
   ],
   "source": [
    "# Interpret the principal components\n",
    "pca.components_"
   ]
  },
  {
   "cell_type": "code",
   "execution_count": 98,
   "metadata": {},
   "outputs": [
    {
     "data": {
      "text/plain": [
       "<matplotlib.axes._subplots.AxesSubplot at 0xf454f28>"
      ]
     },
     "execution_count": 98,
     "metadata": {},
     "output_type": "execute_result"
    },
    {
     "data": {
      "image/png": "[encoded data removed]",
      "text/plain": [
       "<Figure size 864x432 with 2 Axes>"
      ]
     },
     "metadata": {
      "needs_background": "light"
     },
     "output_type": "display_data"
    }
   ],
   "source": [
    "map= pd.DataFrame(pca.components_,columns=ex.columns)\n",
    "plt.figure(figsize=(12,6))\n",
    "sns.heatmap(map,cmap='twilight')"
   ]
  },
  {
   "cell_type": "code",
   "execution_count": null,
   "metadata": {},
   "outputs": [],
   "source": []
  }
 ],
 "metadata": {
  "kernelspec": {
   "display_name": "Python 3",
   "language": "python",
   "name": "python3"
  },
  "language_info": {
   "codemirror_mode": {
    "name": "ipython",
    "version": 3
   },
   "file_extension": ".py",
   "mimetype": "text/x-python",
   "name": "python",
   "nbconvert_exporter": "python",
   "pygments_lexer": "ipython3",
   "version": "3.7.3"
  }
 },
 "nbformat": 4,
 "nbformat_minor": 2
}
